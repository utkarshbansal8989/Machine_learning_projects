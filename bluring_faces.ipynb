{
  "nbformat": 4,
  "nbformat_minor": 0,
  "metadata": {
    "colab": {
      "name": "bluring_faces.ipynb",
      "private_outputs": true,
      "provenance": [],
      "authorship_tag": "ABX9TyPtNl3ZiwvC7wOc0JvtRkUu",
      "include_colab_link": true
    },
    "kernelspec": {
      "name": "python3",
      "display_name": "Python 3"
    }
  },
  "cells": [
    {
      "cell_type": "markdown",
      "metadata": {
        "id": "view-in-github",
        "colab_type": "text"
      },
      "source": [
        "<a href=\"https://colab.research.google.com/github/utkarshbansal8989/Machine_learning_projects/blob/main/bluring_faces.ipynb\" target=\"_parent\"><img src=\"https://colab.research.google.com/assets/colab-badge.svg\" alt=\"Open In Colab\"/></a>"
      ]
    },
    {
      "cell_type": "markdown",
      "metadata": {
        "id": "mme9VN4RGy9I"
      },
      "source": [
        "### Importing the libraries\n"
      ]
    },
    {
      "cell_type": "code",
      "metadata": {
        "id": "XT_gt4pqDiHq"
      },
      "source": [
        "import cv2\n",
        "import numpy as np\n",
        "import dlib\n",
        "from google.colab.patches import cv2_imshow"
      ],
      "execution_count": null,
      "outputs": []
    },
    {
      "cell_type": "markdown",
      "metadata": {
        "id": "_z-rN6KTG-X8"
      },
      "source": [
        "### Downloading the image\n"
      ]
    },
    {
      "cell_type": "code",
      "metadata": {
        "id": "WXxLpqS-EsIM"
      },
      "source": [
        "!wget https://pluspng.com/img-png/group-of-men-png--1330.png"
      ],
      "execution_count": null,
      "outputs": []
    },
    {
      "cell_type": "markdown",
      "metadata": {
        "id": "PCO4UKQmJYYF"
      },
      "source": [
        "### Loading and Displaying the image"
      ]
    },
    {
      "cell_type": "code",
      "metadata": {
        "id": "nW1a1lNfJUVA"
      },
      "source": [
        "image=cv2.imread(##path of your image)\n",
        "cv2_imshow(image)"
      ],
      "execution_count": null,
      "outputs": []
    },
    {
      "cell_type": "code",
      "metadata": {
        "id": "xag3-YkbKX1c"
      },
      "source": [
        "image\n"
      ],
      "execution_count": null,
      "outputs": []
    },
    {
      "cell_type": "code",
      "metadata": {
        "id": "RL10RV5MLLYa"
      },
      "source": [
        "image.shape"
      ],
      "execution_count": null,
      "outputs": []
    },
    {
      "cell_type": "markdown",
      "metadata": {
        "id": "wP7AaC6HMCha"
      },
      "source": [
        "Finding Faces in our image\n"
      ]
    },
    {
      "cell_type": "code",
      "metadata": {
        "id": "zImoV7aNLN-F"
      },
      "source": [
        "image= cv2.imread(##path of your image)\n",
        "detector = dlib.get_frontal_face_detector()\n",
        "faces=detector(image)\n",
        "for face in faces:\n",
        "  print(face)"
      ],
      "execution_count": null,
      "outputs": []
    },
    {
      "cell_type": "code",
      "metadata": {
        "id": "Yo_yApFDNNec"
      },
      "source": [
        "import numpy as np\n",
        "import cv2\n",
        "import dlib\n",
        "\n",
        "image = cv2.imread(##path of your image)\n",
        "detector = dlib.get_frontal_face_detector()\n",
        "\n",
        "faces = detector(image)\n",
        "for face in faces:\n",
        "  top_left_x = face.left()\n",
        "  top_left_y = face.top()\n",
        "  bottom_right_x = face.right()\n",
        "  bottom_right_y = face.bottom()\n",
        "\n",
        "  cv2.rectangle(image, (top_left_x, top_left_y), (bottom_right_x, bottom_right_y), (0, 255, 0), 3)\n",
        "cv2_imshow(image)"
      ],
      "execution_count": null,
      "outputs": []
    },
    {
      "cell_type": "markdown",
      "metadata": {
        "id": "7QBJCSJpRSak"
      },
      "source": [
        "## Blurring the face"
      ]
    },
    {
      "cell_type": "code",
      "metadata": {
        "id": "5kGcgZvzNUzI"
      },
      "source": [
        "image = cv2.imread(##path of your image)\n",
        "detector = dlib.get_frontal_face_detector()\n",
        "\n",
        "faces = detector(image)\n",
        "for face in faces:\n",
        "  top_left_x = face.left()\n",
        "  top_left_y = face.top()\n",
        "  bottom_right_x = face.right()\n",
        "  bottom_right_y = face.bottom()\n",
        "  image[top_left_y:bottom_right_y, \n",
        "        top_left_x:bottom_right_x] = cv2.blur(image[top_left_y:bottom_right_y, \n",
        "                                                 top_left_x:bottom_right_x], (25, 25))\n",
        "cv2_imshow(image)      "
      ],
      "execution_count": null,
      "outputs": []
    }
  ]
}