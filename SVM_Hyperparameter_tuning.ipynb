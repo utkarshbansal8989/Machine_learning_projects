{
  "nbformat": 4,
  "nbformat_minor": 0,
  "metadata": {
    "colab": {
      "name": "SVM_Hyperparameter_tuning.ipynb",
      "private_outputs": true,
      "provenance": [],
      "authorship_tag": "ABX9TyPzkg+7t3Bm85S+UsE894F6",
      "include_colab_link": true
    },
    "kernelspec": {
      "name": "python3",
      "display_name": "Python 3"
    }
  },
  "cells": [
    {
      "cell_type": "markdown",
      "metadata": {
        "id": "view-in-github",
        "colab_type": "text"
      },
      "source": [
        "<a href=\"https://colab.research.google.com/github/utkarshbansal8989/Machine_learning_projects/blob/main/SVM_Hyperparameter_tuning.ipynb\" target=\"_parent\"><img src=\"https://colab.research.google.com/assets/colab-badge.svg\" alt=\"Open In Colab\"/></a>"
      ]
    },
    {
      "cell_type": "code",
      "metadata": {
        "id": "Ng-eqAHe8cEB"
      },
      "source": [
        "import pandas as pd \r\n",
        "import numpy as np \r\n",
        "from sklearn.metrics import classification_report, confusion_matrix \r\n",
        "from sklearn.datasets import load_breast_cancer \r\n",
        "from sklearn.svm import SVC \r\n",
        "  \r\n"
      ],
      "execution_count": null,
      "outputs": []
    },
    {
      "cell_type": "code",
      "metadata": {
        "id": "-Zq3bzqN8ngy"
      },
      "source": [
        "cancer = load_breast_cancer() \r\n",
        "  \r\n",
        "# The data set is presented in a dictionary form: \r\n",
        "print(cancer.keys()) "
      ],
      "execution_count": null,
      "outputs": []
    },
    {
      "cell_type": "code",
      "metadata": {
        "id": "ED85-enz8wBD"
      },
      "source": [
        "cancer"
      ],
      "execution_count": null,
      "outputs": []
    },
    {
      "cell_type": "code",
      "metadata": {
        "id": "6IAuyIpU84wb"
      },
      "source": [
        "df_feat = pd.DataFrame(cancer[\"data\"], columns=cancer[\"feature_names\"])\r\n",
        "df_target = pd.DataFrame(cancer['target'],  \r\n",
        "                     columns =['Cancer']) \r\n",
        "  \r\n",
        "print(\"Feature Variables: \") \r\n",
        "print(df_feat.info()) "
      ],
      "execution_count": null,
      "outputs": []
    },
    {
      "cell_type": "code",
      "metadata": {
        "id": "tH1AkF0b9ZXj"
      },
      "source": [
        "print(\"Dataframe looks like : \") \r\n",
        "print(df_feat.head()) "
      ],
      "execution_count": null,
      "outputs": []
    },
    {
      "cell_type": "code",
      "metadata": {
        "id": "w48373Ru-y4e"
      },
      "source": [
        "from sklearn.model_selection import train_test_split \r\n",
        "  \r\n",
        "X_train, X_test, y_train, y_test = train_test_split( \r\n",
        "                        df_feat, np.ravel(df_target), \r\n",
        "                test_size = 0.30, random_state = 101) "
      ],
      "execution_count": null,
      "outputs": []
    },
    {
      "cell_type": "code",
      "metadata": {
        "id": "bSe5DpU_-_w4"
      },
      "source": [
        "model = SVC() \r\n",
        "model.fit(X_train, y_train) \r\n",
        "  \r\n",
        "# print prediction results \r\n",
        "predictions = model.predict(X_test) \r\n",
        "print(classification_report(y_test, predictions)) "
      ],
      "execution_count": null,
      "outputs": []
    },
    {
      "cell_type": "code",
      "metadata": {
        "id": "aTMMOXVz_Cr3"
      },
      "source": [
        "from sklearn.model_selection import GridSearchCV \r\n",
        "  \r\n",
        "# defining parameter range \r\n",
        "param_grid = {'C': [0.1, 1, 10, 100, 1000],  \r\n",
        "              'gamma': [1, 0.1, 0.01, 0.001, 0.0001], \r\n",
        "              'kernel': ['rbf']}  \r\n",
        "  \r\n",
        "grid = GridSearchCV(SVC(), param_grid, refit = True, verbose = 3) \r\n",
        "  \r\n",
        "# fitting the model for grid search \r\n",
        "grid.fit(X_train, y_train) "
      ],
      "execution_count": null,
      "outputs": []
    },
    {
      "cell_type": "code",
      "metadata": {
        "id": "PIwaFNKD_0AN"
      },
      "source": [
        "# print best parameter after tuning \r\n",
        "print(grid.best_params_) \r\n",
        "  \r\n",
        "# print how our model looks after hyper-parameter tuning \r\n",
        "print(grid.best_estimator_)"
      ],
      "execution_count": null,
      "outputs": []
    },
    {
      "cell_type": "code",
      "metadata": {
        "id": "b50oud19_4Aq"
      },
      "source": [
        "grid_predictions = grid.predict(X_test) \r\n",
        "  \r\n",
        "# print classification report \r\n",
        "print(classification_report(y_test, grid_predictions)) "
      ],
      "execution_count": null,
      "outputs": []
    },
    {
      "cell_type": "code",
      "metadata": {
        "id": "Mdxk6x6F_60R"
      },
      "source": [
        ""
      ],
      "execution_count": null,
      "outputs": []
    }
  ]
}